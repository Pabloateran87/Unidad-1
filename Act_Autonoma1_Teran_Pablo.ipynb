{
 "cells": [
  {
   "cell_type": "markdown",
   "id": "d886e448",
   "metadata": {},
   "source": [
    "# Programación 2 — Actividad Autónoma 1  \n",
    "**Unidad 1:** Fundamentos de la Programación Orientada a Objetos (POO)  \n",
    "**Tema 1:** Introducción a la POO, Clases y Objetos\n",
    "\n",
    "**Nombre:** Pablo Andrés Terán Corrales\n"
   ]
  },
  {
   "cell_type": "markdown",
   "id": "4e507456",
   "metadata": {},
   "source": [
    "## Objetivo de la actividad\n",
    "Diseñar e implementar una clase orientada a objetos que modele instancias del dataset de **Iris**, aplicando principios de **encapsulamiento** y representando la solución con un **diagrama UML**.\n",
    "\n",
    "## Recursos previos sugeridos\n",
    "- Conceptos fundamentales de POO en Python.\n",
    "- Definición y uso de clases y objetos.\n",
    "- Atributos privados y encapsulamiento mediante `@property` y `@<prop>.setter`.\n",
    "- Método mágico `__init__()`.\n",
    "- Representación con `__repr__()`.\n",
    "- Estructura básica de un diagrama UML de clases.\n",
    "- Sintaxis de Python en Jupyter Notebook.\n"
   ]
  },
  {
   "cell_type": "markdown",
   "id": "06b6c08c",
   "metadata": {},
   "source": [
    "## 1) Implementación de la clase `Sample`\n",
    "\n",
    "La clase representa una flor del dataset Iris con los atributos solicitados:\n",
    "\n",
    "- `sepal_length: float`\n",
    "- `sepal_width: float`\n",
    "- `petal_length: float`\n",
    "- `petal_width: float`\n",
    "- `species: str` *(encapsulado)*\n"
   ]
  },
  {
   "cell_type": "code",
   "execution_count": 2,
   "id": "cbed8844",
   "metadata": {},
   "outputs": [],
   "source": [
    "class Sample:\n",
    "    \"\"\"Representa una muestra (flor) del dataset Iris.\"\"\"\n",
    "    def __init__(self, sepal_length, sepal_width, petal_length, petal_width, species):\n",
    "        # Conversión defensiva a float para asegurar tipos numéricos correctos\n",
    "        self.sepal_length = float(sepal_length)\n",
    "        self.sepal_width = float(sepal_width)\n",
    "        self.petal_length = float(petal_length)\n",
    "        self.petal_width = float(petal_width)\n",
    "        # Atributo encapsulado (nombre con doble guion bajo para name mangling)\n",
    "        self.__species = species\n",
    "\n",
    "    # Getter del atributo species\n",
    "    @property\n",
    "    def species(self):\n",
    "        \"\"\"Obtiene la especie (cadena).\"\"\"\n",
    "        return self.__species\n",
    "\n",
    "    # Setter del atributo species con validación\n",
    "    @species.setter\n",
    "    def species(self, value):\n",
    "        if not isinstance(value, str):\n",
    "            raise ValueError(\"El valor de 'species' debe ser una cadena de texto (str).\" )\n",
    "        if value.strip() == \"\":\n",
    "            raise ValueError(\"'species' no puede ser una cadena vacía.\")\n",
    "        self.__species = value\n",
    "\n",
    "    def __repr__(self):\n",
    "        \"\"\"Devuelve una representación concisa y legible del objeto.\"\"\"\n",
    "        return (f\"Sample(sepal_length={self.sepal_length}, sepal_width={self.sepal_width}, \"\n",
    "                f\"petal_length={self.petal_length}, petal_width={self.petal_width}, \"\n",
    "                f\"species='{self.__species}')\")\n",
    "\n",
    "    def describe(self):\n",
    "        \"\"\"Devuelve una descripción en lenguaje natural de la muestra.\"\"\"\n",
    "        return (f\"La flor de especie {self.__species} tiene sépalos de \"\n",
    "                f\"{self.sepal_length}×{self.sepal_width} cm y pétalos de \"\n",
    "                f\"{self.petal_length}×{self.petal_width} cm.\")\n",
    "\n",
    "    def matches(self, species):\n",
    "        \"\"\"Retorna True si la especie coincide con el valor dado (comparación case-insensitive).\"\"\"\n",
    "        return self.__species.lower() == str(species).lower()\n"
   ]
  },
  {
   "cell_type": "markdown",
   "id": "3da9fd6d",
   "metadata": {},
   "source": [
    "### Ejemplos de uso\n",
    "Las siguientes celdas muestran ejemplos simples de creación, representación, descripción\n",
    "y verificación de coincidencia de especie.\n"
   ]
  },
  {
   "cell_type": "code",
   "execution_count": 3,
   "id": "f43d33eb",
   "metadata": {},
   "outputs": [
    {
     "data": {
      "text/plain": [
       "Sample(sepal_length=5.1, sepal_width=3.5, petal_length=1.4, petal_width=0.2, species='Iris-setosa')"
      ]
     },
     "execution_count": 3,
     "metadata": {},
     "output_type": "execute_result"
    }
   ],
   "source": [
    "# Crear una instancia de Sample\n",
    "sample = Sample(5.1, 3.5, 1.4, 0.2, \"Iris-setosa\")\n",
    "sample"
   ]
  },
  {
   "cell_type": "code",
   "execution_count": 4,
   "id": "5b034c9e",
   "metadata": {},
   "outputs": [
    {
     "data": {
      "text/plain": [
       "'La flor de especie Iris-setosa tiene sépalos de 5.1×3.5 cm y pétalos de 1.4×0.2 cm.'"
      ]
     },
     "execution_count": 4,
     "metadata": {},
     "output_type": "execute_result"
    }
   ],
   "source": [
    "# Describir la flor\n",
    "sample.describe()"
   ]
  },
  {
   "cell_type": "code",
   "execution_count": 5,
   "id": "cf176eea",
   "metadata": {},
   "outputs": [
    {
     "data": {
      "text/plain": [
       "True"
      ]
     },
     "execution_count": 5,
     "metadata": {},
     "output_type": "execute_result"
    }
   ],
   "source": [
    "# Comprobar coincidencia de especie (True esperado)\n",
    "sample.matches(\"iris-setosa\")"
   ]
  },
  {
   "cell_type": "code",
   "execution_count": 6,
   "id": "4ad450ee",
   "metadata": {},
   "outputs": [
    {
     "data": {
      "text/plain": [
       "(Sample(sepal_length=5.1, sepal_width=3.5, petal_length=1.4, petal_width=0.2, species='Iris-versicolor'),\n",
       " 'La flor de especie Iris-versicolor tiene sépalos de 5.1×3.5 cm y pétalos de 1.4×0.2 cm.',\n",
       " False)"
      ]
     },
     "execution_count": 6,
     "metadata": {},
     "output_type": "execute_result"
    }
   ],
   "source": [
    "# Actualizar species usando el setter (con validación)\n",
    "sample.species = \"Iris-versicolor\"\n",
    "sample, sample.describe(), sample.matches(\"Iris-virginica\")  # Coincidencia esperada: False\n"
   ]
  },
  {
   "cell_type": "markdown",
   "id": "f5974217",
   "metadata": {},
   "source": [
    "### Pruebas básicas (sanity checks)\n",
    "Pequeño conjunto de pruebas con `assert` para verificar comportamientos esperados.\n"
   ]
  },
  {
   "cell_type": "code",
   "execution_count": 8,
   "id": "3d7acb2f",
   "metadata": {},
   "outputs": [
    {
     "data": {
      "text/plain": [
       "'Pruebas básicas OK'"
      ]
     },
     "execution_count": 8,
     "metadata": {},
     "output_type": "execute_result"
    }
   ],
   "source": [
    "# Tipos y representación\n",
    "s = Sample(6.3, 2.9, 5.6, 1.8, \"Iris-virginica\")\n",
    "assert isinstance(s.sepal_length, float)\n",
    "assert isinstance(s.sepal_width, float)\n",
    "assert isinstance(s.petal_length, float)\n",
    "assert isinstance(s.petal_width, float)\n",
    "assert isinstance(s.species, str)\n",
    "r = repr(s)\n",
    "assert r.startswith(\"Sample(\") and \"species='Iris-virginica'\" in r\n",
    "\n",
    "# matches (case-insensitive)\n",
    "assert s.matches(\"IRIS-VIRGINICA\") is True\n",
    "assert s.matches(\"Iris-versicolor\") is False\n",
    "\n",
    "# setter validaciones\n",
    "try:\n",
    "    s.species = 123  # Debe fallar por tipo\n",
    "    assert False, \"Setter species debía lanzar ValueError por tipo\"\n",
    "except ValueError:\n",
    "    pass\n",
    "\n",
    "try:\n",
    "    s.species = \"  \"  # Debe fallar por vacío\n",
    "    assert False, \"Setter species debía lanzar ValueError por cadena vacía\"\n",
    "except ValueError:\n",
    "    pass\n",
    "\n",
    "\"Pruebas básicas OK\"\n"
   ]
  },
  {
   "cell_type": "markdown",
   "id": "5a4acedd",
   "metadata": {},
   "source": [
    "## 2) Uso de `@property` y `@<prop>.setter` para `species`\n",
    "En la clase anterior, `species` está **encapsulado** mediante `__species` (name-mangling) y expuesto\n",
    "de forma controlada con un *getter* (`@property`) y un *setter* (`@species.setter`) que valida el tipo\n",
    "y prohíbe cadenas vacías.\n"
   ]
  },
  {
   "cell_type": "markdown",
   "id": "517c58f2",
   "metadata": {},
   "source": [
    "## 3) Métodos requeridos incluidos\n",
    "- `__init__()` — inicializa todos los atributos.\n",
    "- `__repr__()` — representación concisa y legible.\n",
    "- `describe()` — redacción comprensible de medidas.\n",
    "- `matches(species)` — compara especies (insensible a mayúsculas/minúsculas).\n"
   ]
  },
  {
   "cell_type": "markdown",
   "id": "5715b963",
   "metadata": {},
   "source": [
    "## 4) Diagrama UML de la clase `Sample`\n",
    "\n",
    "> Representación textual (puedes replicarla en **draw.io / diagrams.net** y exportar como imagen PNG para tu entrega).\n",
    "\n",
    "```\n",
    "+----------------------------+\n",
    "|          Sample            |\n",
    "+----------------------------+\n",
    "| + sepal_length: float      |\n",
    "| + sepal_width: float       |\n",
    "| + petal_length: float      |\n",
    "| + petal_width: float       |\n",
    "| - __species: str           |\n",
    "+----------------------------+\n",
    "| + __init__(...)            |\n",
    "| + species(): str           |\n",
    "| + species(value): void     |\n",
    "| + __repr__(): str          |\n",
    "| + describe(): str          |\n",
    "| + matches(species): bool   |\n",
    "+----------------------------+\n",
    "```\n",
    "**Convenciones UML:** `+` público, `-` privado.\n"
   ]
  },
  {
   "cell_type": "markdown",
   "id": "af313a67",
   "metadata": {},
   "source": [
    "## 5) Preguntas (respuestas breves)\n",
    "\n",
    "**a) ¿Qué significa encapsular un atributo?**  \n",
    "Encapsular significa **proteger los datos internos de una clase** para impedir su acceso/modificación directa desde fuera del objeto y permitir un **acceso controlado** mediante propiedades o métodos. En Python se apoya en el *name mangling* (`__atributo`) y en `@property`/`@setter` para validar y mantener la coherencia del estado.\n",
    "\n",
    "**b) ¿Por qué es importante encapsular `species` en lugar de dejarlo público?**  \n",
    "Porque `species` representa una clasificación que debe ser **consistente y válida**. Si fuera público, podría recibir valores no deseados (p. ej., números o cadenas vacías). Con encapsulamiento, se centraliza la **validación** y se reduce el riesgo de errores o estados inválidos.\n",
    "\n",
    "**c) ¿Qué ventajas ofrece `@property` frente a acceder directamente al atributo?**  \n",
    "1. **Control:** permite validaciones, transformaciones y lógica adicional al leer/escribir.  \n",
    "2. **Compatibilidad futura:** el código cliente no cambia si luego agregas lógica en el *getter/setter*.  \n",
    "3. **Mantenibilidad:** facilita documentar y auditar cambios sobre atributos sensibles.\n"
   ]
  }
 ],
 "metadata": {
  "kernelspec": {
   "display_name": "Python [conda env:test_env]",
   "language": "python",
   "name": "conda-env-test_env-py"
  },
  "language_info": {
   "codemirror_mode": {
    "name": "ipython",
    "version": 3
   },
   "file_extension": ".py",
   "mimetype": "text/x-python",
   "name": "python",
   "nbconvert_exporter": "python",
   "pygments_lexer": "ipython3",
   "version": "3.11.13"
  }
 },
 "nbformat": 4,
 "nbformat_minor": 5
}
